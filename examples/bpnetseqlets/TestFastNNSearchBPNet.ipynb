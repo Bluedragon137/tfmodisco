{
 "cells": [
  {
   "cell_type": "code",
   "execution_count": 1,
   "metadata": {},
   "outputs": [],
   "source": [
    "from __future__ import print_function, division\n",
    "%matplotlib inline\n",
    "\n",
    "try:\n",
    "    reload  # Python 2.7\n",
    "except NameError:\n",
    "    try:\n",
    "        from importlib import reload  # Python 3.4+\n",
    "    except ImportError:\n",
    "        from imp import reload  # Python 3.0 - 3.3"
   ]
  },
  {
   "cell_type": "code",
   "execution_count": 2,
   "metadata": {},
   "outputs": [
    {
     "name": "stderr",
     "output_type": "stream",
     "text": [
      "/Users/avantishrikumar/anaconda3/lib/python3.7/site-packages/sklearn/utils/deprecation.py:144: FutureWarning: The sklearn.neighbors.kde module is  deprecated in version 0.22 and will be removed in version 0.24. The corresponding classes / functions should instead be imported from sklearn.neighbors. Anything that cannot be imported from sklearn.neighbors is now part of the private API.\n",
      "  warnings.warn(message, FutureWarning)\n"
     ]
    }
   ],
   "source": [
    "import numpy as np\n",
    "import modisco\n",
    "\n",
    "onehot_data = np.load('extracted_onehot.npy')[:,:]\n",
    "hypothetical_data = np.load('extracted_hypothetical_scores.npy')[:,:]\n",
    "meannorm_hypothetical_data = (hypothetical_data\n",
    "                              -np.mean(hypothetical_data, axis=-1)[:,:,None])\n",
    "contrib_data = np.load('extracted_contrib_scores.npy')[:,:]\n",
    "#perposimp_hypmeannorm = np.sum(meannorm_hypothetical_data*onehot_data,axis=-1)\n",
    "perposimp = np.sum(contrib_data*onehot_data,axis=-1)\n",
    "\n",
    "flanksize=20\n",
    "contrib_scores_track = modisco.core.DataTrack(name=\"contrib_scores\",\n",
    "                                 fwd_tracks=contrib_data,\n",
    "                                 rev_tracks=contrib_data[:,::-1, ::-1])\n",
    "hypcontrib_scores_track = modisco.core.DataTrack(name=\"hypcontrib_scores\",\n",
    "                                    fwd_tracks=hypothetical_data,\n",
    "                                    rev_tracks=hypothetical_data[:,::-1, ::-1])\n",
    "meannorm_hypcontrib_scores_track = modisco.core.DataTrack(name=\"meannorm_hypcontrib_scores\",\n",
    "                                    fwd_tracks=meannorm_hypothetical_data,\n",
    "                                    rev_tracks=meannorm_hypothetical_data[:,::-1, ::-1])\n",
    "onehot_track = modisco.core.DataTrack(\n",
    "                 name=\"onehot\", fwd_tracks=onehot_data,\n",
    "                 rev_tracks=onehot_data[:,::-1, ::-1])\n",
    "track_set = modisco.core.DataTrackSet(data_tracks=[\n",
    "                contrib_scores_track, hypcontrib_scores_track,\n",
    "                meannorm_hypcontrib_scores_track, onehot_track\n",
    "               ])\n",
    "\n",
    "coords = []\n",
    "for example_idx in range(len(onehot_data)):\n",
    "    #figure out the 6bp window with highest imp\n",
    "    padded_cumsum = np.array([0]+list(np.cumsum(perposimp[example_idx][50:50+41])))\n",
    "    sliding_window_imp = padded_cumsum[7:] - padded_cumsum[:-7]\n",
    "    start = np.argmax(sliding_window_imp)+50\n",
    "    coords.append(modisco.core.Coordinate(\n",
    "                    example_idx=example_idx, start=start-17,\n",
    "                    end=start+24, is_revcomp=False))\n",
    "\n",
    "all_seqlets = [x for x in track_set.create_seqlets(coords=coords, flanks=30)\n",
    "               if np.sum(x[\"contrib_scores\"].corefwd) > 0]\n"
   ]
  },
  {
   "cell_type": "code",
   "execution_count": 3,
   "metadata": {},
   "outputs": [],
   "source": [
    "n_seqlets_in_subsample = 5000 #len(all_seqlets)#40000\n",
    "seqlets_subsample = [all_seqlets[i] for i in np.random.RandomState(1).choice(\n",
    "                     np.arange(len(all_seqlets)), size=n_seqlets_in_subsample,replace=False)]"
   ]
  },
  {
   "cell_type": "code",
   "execution_count": 32,
   "metadata": {},
   "outputs": [],
   "source": [
    "import numba\n",
    "\n",
    "#define a numba metric to compute similarity\n",
    "@numba.njit(fastmath=True, cache=True)\n",
    "def sliding_window_projected_contin_jacc(x, y):\n",
    "    corelen=41\n",
    "    min_overlap_frac=0.75\n",
    "    x_orig_onehot = x[:int(len(x)/2)].reshape((-1, 4))\n",
    "    x_orig_hyp = x[int(len(x)/2):].reshape((-1,4))\n",
    "    y_orig_onehot = y[:int(len(y)/2)].reshape((-1,4))\n",
    "    y_orig_hyp = y[int(len(y)/2):].reshape((-1,4))\n",
    "    \n",
    "    assert x_orig_onehot.shape==y_orig_onehot.shape\n",
    "    assert x_orig_hyp.shape==y_orig_hyp.shape\n",
    "    assert x_orig_onehot.shape==x_orig_hyp.shape\n",
    "    \n",
    "    flanklen = int((len(x_orig_onehot)-corelen)/2)\n",
    "    \n",
    "    min_overlap = int(np.ceil(corelen*min_overlap_frac))\n",
    "    \n",
    "    x_orig_actual = x_orig_hyp*x_orig_onehot\n",
    "    y_orig_actual = y_orig_hyp*y_orig_onehot\n",
    "    \n",
    "    startoffset = -(corelen-min_overlap)\n",
    "    endoffset = (corelen - min_overlap)\n",
    "    assert (corelen-min_overlap) < flanklen\n",
    "    \n",
    "    max_sim = -np.inf\n",
    "    for revcomp in [False, True]:\n",
    "        if (revcomp==False):\n",
    "            x_onehot = x_orig_onehot\n",
    "            x_hyp = x_orig_hyp \n",
    "            y_onehot = y_orig_onehot\n",
    "            y_hyp = y_orig_hyp\n",
    "            x_actual = x_orig_actual\n",
    "            y_actual = y_orig_actual\n",
    "        else:\n",
    "            x_onehot = x_orig_onehot[::-1, ::-1]\n",
    "            x_hyp = x_orig_hyp[::-1, ::-1]\n",
    "            y_onehot = y_orig_onehot[::-1, ::-1]\n",
    "            y_hyp = y_orig_hyp[::-1, ::-1]\n",
    "            x_actual = x_orig_actual[::-1, ::-1]\n",
    "            y_actual = y_orig_actual[::-1, ::-1]\n",
    "        \n",
    "        for offset in range(startoffset, endoffset+1):\n",
    "            y_leftpad = max(offset, 0)\n",
    "            y_slicestart = flanklen-y_leftpad\n",
    "            y_rightpad = max(corelen-(corelen+offset),0)\n",
    "            overlap_size = y_leftpad + corelen + y_rightpad\n",
    "\n",
    "            x_leftpad = max(-offset, 0)\n",
    "            x_slicestart = flanklen-x_leftpad\n",
    "\n",
    "            imputedx_union = 0\n",
    "            imputedx_intersection = 0\n",
    "            imputedy_union = 0\n",
    "            imputedy_intersection = 0\n",
    "            for pos_idx in range(overlap_size):\n",
    "                x_pos_idx = x_slicestart + pos_idx\n",
    "                y_pos_idx = y_slicestart + pos_idx\n",
    "\n",
    "                for base_idx in range(4):\n",
    "                    x_actual_here = x_actual[x_pos_idx, base_idx]\n",
    "                    y_actual_here = y_actual[y_pos_idx, base_idx]\n",
    "                    x_imputed_here = x_hyp[x_pos_idx, base_idx]*y_onehot[y_pos_idx, base_idx]\n",
    "                    y_imputed_here = y_hyp[y_pos_idx, base_idx]*x_onehot[x_pos_idx, base_idx]\n",
    "\n",
    "                    abs_x_actual_here = abs(x_actual_here)\n",
    "                    abs_y_actual_here = abs(y_actual_here)\n",
    "                    abs_x_imputed_here = abs(x_imputed_here)\n",
    "                    abs_y_imputed_here = abs(y_imputed_here)\n",
    "\n",
    "                    imputedx_union += max(abs_x_imputed_here,abs_y_actual_here)\n",
    "                    imputedy_union += max(abs_y_imputed_here,abs_x_actual_here)\n",
    "                    imputedx_intersection += (np.sign(x_imputed_here)*np.sign(y_actual_here)\n",
    "                                              *min(abs_x_imputed_here,abs_y_actual_here))\n",
    "                    imputedy_intersection += (np.sign(y_imputed_here)*np.sign(x_actual_here)\n",
    "                                              *min(abs_y_imputed_here,abs_x_actual_here))\n",
    "\n",
    "            sim = 0.5*((imputedx_intersection/imputedx_union)+(imputedy_intersection/imputedy_union))\n",
    "            max_sim = max(max_sim, sim)\n",
    "    \n",
    "    return 1-max_sim\n"
   ]
  },
  {
   "cell_type": "markdown",
   "metadata": {},
   "source": [
    "## Initial test using just correlation"
   ]
  },
  {
   "cell_type": "code",
   "execution_count": 33,
   "metadata": {},
   "outputs": [],
   "source": [
    "\n",
    "def get_feature_vectors(seqlets, scoretracknames, flanksize):\n",
    "    feature_vectors = []\n",
    "    for seqlet in seqlets:\n",
    "        tracks = [seqlet[scoretrackname].get_core_with_flank(left=flanksize, right=flanksize,\n",
    "                                                             is_revcomp=False)\n",
    "                  for scoretrackname in scoretracknames]\n",
    "        concatenated_tracks = np.concatenate(tracks, axis=-1)\n",
    "        feature_vectors.append(concatenated_tracks.ravel())\n",
    "    return np.array(feature_vectors)\n",
    "\n",
    "featvec = get_feature_vectors(seqlets=seqlets_subsample,\n",
    "                              scoretracknames=[\"contrib_scores\", \"hypcontrib_scores\"],\n",
    "                              flanksize=flanksize)"
   ]
  },
  {
   "cell_type": "code",
   "execution_count": 34,
   "metadata": {
    "scrolled": false
   },
   "outputs": [
    {
     "name": "stdout",
     "output_type": "stream",
     "text": [
      "Wed Apr  1 13:44:45 2020 Building RP forest with 9 trees\n",
      "Wed Apr  1 13:44:45 2020 parallel NN descent for 12 iterations\n",
      "\t 0  /  12\n",
      "\t 1  /  12\n",
      "\t 2  /  12\n",
      "\t 3  /  12\n",
      "\t 4  /  12\n",
      "\t 5  /  12\n",
      "\t 6  /  12\n",
      "Took: 181.33993983268738 s\n"
     ]
    }
   ],
   "source": [
    "#get a similarity using pynndescent\n",
    "from pynndescent import NNDescent\n",
    "import time\n",
    "n_neighbors = 20\n",
    "start = time.time()\n",
    "nnd = NNDescent(data=featvec,\n",
    "                n_neighbors=n_neighbors,\n",
    "                metric=sliding_window_projected_contin_jacc,\n",
    "                #metric_kwds={'corelen':41, 'min_overlap_frac':0.75},\n",
    "                random_state=1234,\n",
    "                max_candidates=60, #value used in UMAP: https://github.com/lmcinnes/umap/blob/9f66cafdef9c666082b2da188c2ae9bff60bc763/umap/umap_.py#L297\n",
    "                verbose=True,\n",
    "                tree_init=True,\n",
    "                n_jobs=4)\n",
    "knn_indices, knn_dists = nnd.neighbor_graph\n",
    "print(\"Took:\",time.time()-start,\"s\")"
   ]
  },
  {
   "cell_type": "code",
   "execution_count": 35,
   "metadata": {},
   "outputs": [],
   "source": [
    "#let's investigate concordance between remapped_indices and the contin-jacc approach"
   ]
  },
  {
   "cell_type": "code",
   "execution_count": 36,
   "metadata": {},
   "outputs": [],
   "source": [
    "continjacc_affmat = np.load(\"affmat_recenter_41bpseqlets_0.75.npy\")"
   ]
  },
  {
   "cell_type": "code",
   "execution_count": 37,
   "metadata": {},
   "outputs": [],
   "source": [
    "def get_nn_ranking_for_affmat(affmat):\n",
    "    nn_ranking = np.zeros_like(affmat).astype(\"int\")\n",
    "    for row_idx,row in enumerate(affmat):\n",
    "        row_argsort = np.argsort(-row)\n",
    "        nn_ranking[row_idx,row_argsort] = np.arange(len(row_argsort))\n",
    "    return nn_ranking\n",
    "\n",
    "continjacc_nn_ranking = get_nn_ranking_for_affmat(continjacc_affmat)"
   ]
  },
  {
   "cell_type": "code",
   "execution_count": 38,
   "metadata": {},
   "outputs": [],
   "source": [
    "continjacc_nn_ranking_of_pnndesc_neighbs = np.array([\n",
    "    continjacc_nn_ranking[row_idx, row_knn_indices]\n",
    "    for (row_idx, row_knn_indices) in enumerate(knn_indices)\n",
    "])"
   ]
  },
  {
   "cell_type": "code",
   "execution_count": 39,
   "metadata": {},
   "outputs": [
    {
     "data": {
      "text/plain": [
       "array([[   0,  541, 4238, ..., 3452, 1982, 1051],\n",
       "       [   0, 1872, 1339, ..., 3032,  742,  106],\n",
       "       [   0,  774, 4284, ..., 2127,  839,  249],\n",
       "       ...,\n",
       "       [   0,    1, 3827, ..., 3211, 2565,  567],\n",
       "       [   0,    1,  119, ..., 2245, 1703, 2182],\n",
       "       [   0, 1313, 3906, ..., 2802,  540, 3819]])"
      ]
     },
     "execution_count": 39,
     "metadata": {},
     "output_type": "execute_result"
    }
   ],
   "source": [
    "continjacc_nn_ranking_of_pnndesc_neighbs"
   ]
  },
  {
   "cell_type": "code",
   "execution_count": 40,
   "metadata": {},
   "outputs": [
    {
     "data": {
      "text/plain": [
       "array([[   0, 2389, 3745, ..., 1680,   43, 2801],\n",
       "       [2862,    0, 2150, ..., 3014,  806, 1856],\n",
       "       [3849, 1564,    0, ..., 3956, 1733, 2922],\n",
       "       ...,\n",
       "       [ 668, 1343, 2492, ...,    0,  477,  853],\n",
       "       [ 642,  329, 1698, ..., 1857,    0, 2757],\n",
       "       [3842, 1169, 3523, ..., 3145, 3823,    0]])"
      ]
     },
     "execution_count": 40,
     "metadata": {},
     "output_type": "execute_result"
    }
   ],
   "source": [
    "continjacc_nn_ranking"
   ]
  },
  {
   "cell_type": "code",
   "execution_count": 41,
   "metadata": {},
   "outputs": [
    {
     "data": {
      "text/plain": [
       "array([[   0, 1227,  427, ...,  623, 1314,  866],\n",
       "       [   1, 2656, 4888, ...,  430, 3201, 4312],\n",
       "       [   2, 4766, 2037, ..., 4269, 2739,  701],\n",
       "       ...,\n",
       "       [4997, 1239, 2943, ..., 3165, 1650, 2646],\n",
       "       [4998, 2756, 1053, ..., 4618, 4747, 2829],\n",
       "       [4999, 1919, 2420, ..., 3163,  919, 3212]])"
      ]
     },
     "execution_count": 41,
     "metadata": {},
     "output_type": "execute_result"
    }
   ],
   "source": [
    "knn_indices"
   ]
  },
  {
   "cell_type": "code",
   "execution_count": 44,
   "metadata": {},
   "outputs": [
    {
     "data": {
      "image/png": "[encoded data removed]",
      "text/plain": [
       "<Figure size 432x288 with 1 Axes>"
      ]
     },
     "metadata": {
      "needs_background": "light"
     },
     "output_type": "display_data"
    }
   ],
   "source": [
    "from matplotlib import pyplot as plt\n",
    "\n",
    "plt.hist(continjacc_nn_ranking_of_pnndesc_neighbs.ravel(), bins=60)\n",
    "plt.show()"
   ]
  },
  {
   "cell_type": "code",
   "execution_count": null,
   "metadata": {},
   "outputs": [],
   "source": []
  }
 ],
 "metadata": {
  "kernelspec": {
   "display_name": "Python 3",
   "language": "python",
   "name": "python3"
  },
  "language_info": {
   "codemirror_mode": {
    "name": "ipython",
    "version": 3
   },
   "file_extension": ".py",
   "mimetype": "text/x-python",
   "name": "python",
   "nbconvert_exporter": "python",
   "pygments_lexer": "ipython3",
   "version": "3.7.6"
  }
 },
 "nbformat": 4,
 "nbformat_minor": 2
}
