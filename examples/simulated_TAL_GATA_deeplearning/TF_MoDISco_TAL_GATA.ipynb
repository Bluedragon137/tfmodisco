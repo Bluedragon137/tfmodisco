{
 "cells": [
  {
   "cell_type": "markdown",
   "metadata": {
    "colab_type": "text",
    "id": "view-in-github"
   },
   "source": [
    "<a href=\"https://colab.research.google.com/github/kundajelab/tfmodisco/blob/master/examples/simulated_TAL_GATA_deeplearning/TF_MoDISco_TAL_GATA.ipynb\" target=\"_parent\"><img src=\"https://colab.research.google.com/assets/colab-badge.svg\" alt=\"Open In Colab\"/></a>"
   ]
  },
  {
   "cell_type": "markdown",
   "metadata": {
    "colab_type": "text",
    "id": "oPV0Wsfg9OBZ"
   },
   "source": [
    "# TF-MoDISco on the TAL GATA simulation\n",
    "\n",
    "### Note: we are still refining the multi-task version of TF-MoDISco. If you encounter difficulties running TF-MoDISco with multiple tasks, our recommendation is to run it on one task at a time.\n",
    "\n",
    "This notebook demonstrates running TF-MoDISco on importance scores obtained from the TAL-GATA simulation used in the DeepLIFT paper. See Generate Importance Scores.ipynb for a notebook demonstrating how to produce the scores. There are 3 tasks. Task 0 is positive when both TAL and GATA motifs are present in the sequence. Task 1 is positive when GATA motifs are present in the sequence. Task 2 is positive when TAL motifs are present in the sequence."
   ]
  },
  {
   "cell_type": "code",
   "execution_count": 1,
   "metadata": {
    "colab": {
     "base_uri": "https://localhost:8080/",
     "height": 309
    },
    "colab_type": "code",
    "id": "CLiK1j6A8YrA",
    "outputId": "59297c1a-69dc-49e8-b2e2-1434e0377ef8"
   },
   "outputs": [
    {
     "name": "stdout",
     "output_type": "stream",
     "text": [
      "Requirement already satisfied: modisco in /Users/avantishrikumar/Research/modisco (0.5.6.0)\n",
      "Requirement already satisfied: numpy>=1.9 in /Users/avantishrikumar/anaconda3/lib/python3.7/site-packages (from modisco) (1.16.2)\n",
      "Requirement already satisfied: joblib>=0.11 in /Users/avantishrikumar/anaconda3/lib/python3.7/site-packages (from modisco) (0.13.2)\n",
      "Requirement already satisfied: scikit-learn>=0.19 in /Users/avantishrikumar/anaconda3/lib/python3.7/site-packages (from modisco) (0.20.3)\n",
      "Requirement already satisfied: h5py>=2.5 in /Users/avantishrikumar/anaconda3/lib/python3.7/site-packages (from modisco) (2.9.0)\n",
      "Requirement already satisfied: scipy>=0.13.3 in /Users/avantishrikumar/anaconda3/lib/python3.7/site-packages (from scikit-learn>=0.19->modisco) (1.2.1)\n",
      "Requirement already satisfied: six in /Users/avantishrikumar/anaconda3/lib/python3.7/site-packages (from h5py>=2.5->modisco) (1.12.0)\n"
     ]
    }
   ],
   "source": [
    "!pip install modisco"
   ]
  },
  {
   "cell_type": "code",
   "execution_count": 1,
   "metadata": {
    "colab": {},
    "colab_type": "code",
    "id": "en15RxNL8YFE"
   },
   "outputs": [],
   "source": [
    "from __future__ import print_function, division\n",
    "%matplotlib inline\n",
    "\n",
    "try:\n",
    "    reload  # Python 2.7\n",
    "except NameError:\n",
    "    try:\n",
    "        from importlib import reload  # Python 3.4+\n",
    "    except ImportError:\n",
    "        from imp import reload  # Python 3.0 - 3.3"
   ]
  },
  {
   "cell_type": "code",
   "execution_count": 2,
   "metadata": {
    "colab": {
     "base_uri": "https://localhost:8080/",
     "height": 114
    },
    "colab_type": "code",
    "id": "uVOSJpXV8aIG",
    "outputId": "c6b30071-9329-4463-b6c0-88c6009691d7"
   },
   "outputs": [
    {
     "name": "stdout",
     "output_type": "stream",
     "text": [
      "3.7.3 (default, Mar 27 2019, 16:54:48) \n",
      "[Clang 4.0.1 (tags/RELEASE_401/final)]\n"
     ]
    }
   ],
   "source": [
    "import numpy as np\n",
    "import modisco\n",
    "import sys\n",
    "print (sys.version)\n",
    "import os"
   ]
  },
  {
   "cell_type": "markdown",
   "metadata": {
    "colab_type": "text",
    "id": "ROG0LVF_9ZZs"
   },
   "source": [
    "## Grab the input data"
   ]
  },
  {
   "cell_type": "code",
   "execution_count": null,
   "metadata": {
    "colab": {
     "base_uri": "https://localhost:8080/",
     "height": 462
    },
    "colab_type": "code",
    "id": "bZ8jaBDZ8fmm",
    "outputId": "d8b7fb89-f81a-414a-bd02-85095a9326ba"
   },
   "outputs": [],
   "source": [
    "#grab scores for tfmodisco\n",
    "#!/usr/bin/env bash\n",
    "![[ -f scores.h5 ]] || curl -o scores.h5 https://raw.githubusercontent.com/AvantiShri/model_storage/23d8f3ffc89af210f6f0bf7e65585eff259ba672/modisco/scores.h5\n",
    "![[ -f sequences.simdata.gz ]] || wget https://raw.githubusercontent.com/AvantiShri/model_storage/db919b12f750e5844402153233249bb3d24e9e9a/deeplift/genomics/sequences.simdata.gz\n",
    "![[ -f test.txt.gz ]] || wget https://raw.githubusercontent.com/AvantiShri/model_storage/9aadb769735c60eb90f7d3d896632ac749a1bdd2/deeplift/genomics/test.txt.gz"
   ]
  },
  {
   "cell_type": "markdown",
   "metadata": {
    "colab_type": "text",
    "id": "_ShCbHRM92_y"
   },
   "source": [
    "## Functions for one-hot encoding sequences¶"
   ]
  },
  {
   "cell_type": "code",
   "execution_count": 3,
   "metadata": {
    "colab": {},
    "colab_type": "code",
    "id": "KawKTu5P8-c6"
   },
   "outputs": [],
   "source": [
    "#Functions for one-hot encoding sequences\n",
    "import gzip\n",
    "\n",
    "def one_hot_encode_along_channel_axis(sequence):\n",
    "    to_return = np.zeros((len(sequence),4), dtype=np.int8)\n",
    "    seq_to_one_hot_fill_in_array(zeros_array=to_return,\n",
    "                                 sequence=sequence, one_hot_axis=1)\n",
    "    return to_return\n",
    "\n",
    "def seq_to_one_hot_fill_in_array(zeros_array, sequence, one_hot_axis):\n",
    "    assert one_hot_axis==0 or one_hot_axis==1\n",
    "    if (one_hot_axis==0):\n",
    "        assert zeros_array.shape[1] == len(sequence)\n",
    "    elif (one_hot_axis==1): \n",
    "        assert zeros_array.shape[0] == len(sequence)\n",
    "    #will mutate zeros_array\n",
    "    for (i,char) in enumerate(sequence):\n",
    "        if (char==\"A\" or char==\"a\"):\n",
    "            char_idx = 0\n",
    "        elif (char==\"C\" or char==\"c\"):\n",
    "            char_idx = 1\n",
    "        elif (char==\"G\" or char==\"g\"):\n",
    "            char_idx = 2\n",
    "        elif (char==\"T\" or char==\"t\"):\n",
    "            char_idx = 3\n",
    "        elif (char==\"N\" or char==\"n\"):\n",
    "            continue #leave that pos as all 0's\n",
    "        else:\n",
    "            raise RuntimeError(\"Unsupported character: \"+str(char))\n",
    "        if (one_hot_axis==0):\n",
    "            zeros_array[char_idx,i] = 1\n",
    "        elif (one_hot_axis==1):\n",
    "            zeros_array[i,char_idx] = 1\n",
    "\n",
    "#read in the data in the testing set\n",
    "test_ids_fh = gzip.open(\"test.txt.gz\",\"rb\")\n",
    "ids_to_load = set([x.rstrip() for x in test_ids_fh])\n",
    "\n",
    "fasta_sequences = []\n",
    "for i,a_line in enumerate(gzip.open(\"sequences.simdata.gz\",\"rb\")):\n",
    "    if (i==0):\n",
    "        next\n",
    "    a_line = a_line.rstrip()\n",
    "    seq_id,seq_fasta,embeddings,task1,task2,task3 = a_line.split(b\"\\t\")\n",
    "    if seq_id in ids_to_load:\n",
    "        fasta_sequences.append(seq_fasta.decode(\"utf-8\"))"
   ]
  },
  {
   "cell_type": "markdown",
   "metadata": {
    "colab_type": "text",
    "id": "m1xkAlvW97vL"
   },
   "source": [
    "## Prepare the data for input into TF-MoDISCo\n",
    "\n",
    "You need a numpy array of importance scores and hypothetical importance scores for every task."
   ]
  },
  {
   "cell_type": "code",
   "execution_count": 4,
   "metadata": {
    "colab": {},
    "colab_type": "code",
    "id": "xahZGqrA9Jpq"
   },
   "outputs": [],
   "source": [
    "import h5py\n",
    "from collections import OrderedDict\n",
    "\n",
    "task_to_scores = OrderedDict()\n",
    "task_to_hyp_scores = OrderedDict()\n",
    "\n",
    "f = h5py.File(\"scores.h5\",\"r\")\n",
    "tasks = f[\"contrib_scores\"].keys()\n",
    "n = 100 #since this is just a test run, for speed I am limiting to 100 sequences\n",
    "for task in tasks:\n",
    "    #Note that the sequences can be of variable lengths;\n",
    "    #in this example they all have the same length (200bp) but that is\n",
    "    #not necessary.\n",
    "    task_to_scores[task] = [np.array(x) for x in f['contrib_scores'][task][:n]]\n",
    "    task_to_hyp_scores[task] = [np.array(x) for x in f['hyp_contrib_scores'][task][:n]]\n",
    "\n",
    "onehot_data = [one_hot_encode_along_channel_axis(seq) for seq in fasta_sequences][:n]"
   ]
  },
  {
   "cell_type": "markdown",
   "metadata": {
    "colab_type": "text",
    "id": "hQEQgz1w-QhL"
   },
   "source": [
    "Double check by plotting"
   ]
  },
  {
   "cell_type": "code",
   "execution_count": null,
   "metadata": {
    "colab": {
     "base_uri": "https://localhost:8080/",
     "height": 440
    },
    "colab_type": "code",
    "id": "Ky6nlCFs-NcP",
    "outputId": "f62e9326-372a-464c-bfe2-5333777cc534"
   },
   "outputs": [],
   "source": [
    "import modisco.visualization\n",
    "from modisco.visualization import viz_sequence\n",
    "\n",
    "viz_sequence.plot_weights(task_to_scores['task0'][0], subticks_frequency=20)\n",
    "viz_sequence.plot_weights(task_to_hyp_scores['task0'][0], subticks_frequency=20)\n",
    "viz_sequence.plot_weights(onehot_data[0], subticks_frequency=20)"
   ]
  },
  {
   "cell_type": "markdown",
   "metadata": {
    "colab_type": "text",
    "id": "uuvSgm62-Whl"
   },
   "source": [
    "Run TF-MoDISco\n",
    "TF-MoDISco first identifies seqlets, then splits the seqlets into \"metaclusters\" according to their pattern of activity across all the tasks, and then performs clustering within each task. Since there are 3 tasks, there are 27 possible metaclusters (consisting of a +1, -1 or 0 for each task). Consistent with the simulation, the [+1, +1, 0], [+1, 0, +1], [0, 0, +1] and [0, +1, 0] metaclusters turn up motifs.\n",
    "\n",
    "To demonstrate customization, the code below has slight modifications from default settings in the following ways:\n",
    "\n",
    "- Because the TAL and GATA motifs are relatively short compared to something like CTCF, it uses a sliding window size of 15 (rather than the default of 21) and flanks of 5 (rather than the default of 10). The sliding window size and flanks should be adjusted according to the expected length of the core motif and its flanks. If the window size or flank sizes are too long, you risk picking up more noise.\n",
    "- During the seqlet clustering, motifs are trimmed to the central trim_to_window_size bp with the highest importance. trim_to_window_size is set to 10 rather than the default of 30. After the trimming is done, the seqlet is expanded on either side by initial_flank_to_add. This is set to 3 rather than the default of 10.\n",
    "- The final_min_cluster_size is set to 60 rather than the default of 30. This is used to filter out small clusters with relatively weak support (in this case, fewer than 60 seqlets).\n",
    "- It uses kmers of length 5 with 1 gap and no mismatches to compute the \"quick and dirty\" affinity matrix across all seqlets. The \"quick and dirty\" affinity matrix is used both for noise filtering and as a first pass to speed up computation of the continuous jaccard affinity matrix (the latter affinities are only computed between seqlets deemed to be close together by the \"quick and dirty\" method). I made the kmer length smaller to keep memory usage down when testing on my macbook pro. The default is to use kmers of length 8 with 3 gaps and 2 mismatches, which tends to run out of memory on many systems (I would change the default but want to avoid breaking reproducibility for older users)\n",
    "- target_seqlet_fdr controls the noisiness of the seqlets. For a particular task, \"significant\" seqlets are identified by first smoothing importance scores with a window of size sliding_window_size and then fitting a laplace distribution to the left and right tails. This laplace distribution is assumed to represent the null distribution of window importance scores (note: as an alternative, it's possible to supply an empirical null distribution; see examples/H1ESC_Nanog_gkmsvm/TF MoDISco Nanog.ipynb for an example). A threshold is then identified such that the false discovery rate (computed as the ratio of the expected fraction of windows with a certain score in the null distribution relative to the observed fraction of windows with that score) is less that target_seqlet_fdr. Note: if the number of sliding windows that pass the FDR threshold is smaller than min_passing_windows_frac (default value 0.03 at the time of writing) or larger than max_passing_windows_frac (default value of 0.2 at the time of writing), the threshold will be adjusted."
   ]
  },
  {
   "cell_type": "code",
   "execution_count": 29,
   "metadata": {
    "colab": {
     "base_uri": "https://localhost:8080/",
     "height": 1000
    },
    "colab_type": "code",
    "id": "--8gp-i2-TOm",
    "outputId": "93401d0a-1d7b-44f9-af8a-e851acdf10c4",
    "scrolled": false
   },
   "outputs": [
    {
     "name": "stdout",
     "output_type": "stream",
     "text": [
      "MEMORY 0.33265664\n",
      "On task task0\n",
      "Computing windowed sums on original\n",
      "Generating null dist\n",
      "peak(mu)= -0.02237087196292123\n",
      "Computing threshold\n",
      "Thresholds from null dist were -1.0124836564064026  and  0.8997364044189453\n",
      "Final raw thresholds are -1.0124836564064026  and  0.8997364044189453\n",
      "Final transformed thresholds are -0.8494086021505376  and  0.8402150537634409\n"
     ]
    },
    {
     "data": {
      "image/png": "[encoded data removed]",
      "text/plain": [
       "<Figure size 432x288 with 1 Axes>"
      ]
     },
     "metadata": {
      "needs_background": "light"
     },
     "output_type": "display_data"
    },
    {
     "name": "stdout",
     "output_type": "stream",
     "text": [
      "Got 198 coords\n",
      "On task task1\n",
      "Computing windowed sums on original\n",
      "Generating null dist\n",
      "peak(mu)= -0.00025505211204290357\n",
      "Computing threshold\n",
      "Thresholds from null dist were -0.918197512626648  and  0.608733057975769\n",
      "Final raw thresholds are -0.918197512626648  and  0.608733057975769\n",
      "Final transformed thresholds are -0.9040322580645161  and  0.8833870967741936\n"
     ]
    },
    {
     "data": {
      "image/png": "[encoded data removed]",
      "text/plain": [
       "<Figure size 432x288 with 1 Axes>"
      ]
     },
     "metadata": {
      "needs_background": "light"
     },
     "output_type": "display_data"
    },
    {
     "name": "stdout",
     "output_type": "stream",
     "text": [
      "Got 145 coords\n",
      "On task task2\n",
      "Computing windowed sums on original\n",
      "Generating null dist\n",
      "peak(mu)= -0.001713569819345139\n",
      "Computing threshold\n",
      "Thresholds from null dist were -0.6213091909885406  and  0.6281718015670776\n",
      "Final raw thresholds are -0.6213091909885406  and  0.6281718015670776\n",
      "Final transformed thresholds are -0.8680107526881721  and  0.8682795698924731\n"
     ]
    },
    {
     "data": {
      "image/png": "[encoded data removed]",
      "text/plain": [
       "<Figure size 432x288 with 1 Axes>"
      ]
     },
     "metadata": {
      "needs_background": "light"
     },
     "output_type": "display_data"
    },
    {
     "name": "stdout",
     "output_type": "stream",
     "text": [
      "Got 166 coords\n",
      "After resolving overlaps, got 275 seqlets\n",
      "Across all tasks, the weakest transformed threshold used was: 0.8402149537634409\n",
      "MEMORY 0.334639104\n",
      "275 identified in total\n",
      "2 activity patterns with support >= 100 out of 27 possible patterns\n",
      "Metacluster sizes:  [115, 104]\n",
      "Idx to activities:  {0: '1,0,1', 1: '1,1,0'}\n",
      "MEMORY 0.334639104\n",
      "On metacluster 1\n",
      "Metacluster size 104\n",
      "Relevant tasks:  ('task0', 'task1')\n",
      "Relevant signs:  (1, 1)\n",
      "MEMORY 0.3346432\n",
      "TfModiscoSeqletsToPatternsFactory: seed=1234\n",
      "(Round 1) num seqlets: 104\n",
      "(Round 1) Computing coarse affmat\n",
      "MEMORY 0.334651392\n",
      "Beginning embedding computation\n",
      "MEMORY 0.334651392\n",
      "Computing embeddings\n",
      "MEMORY 0.334651392\n",
      "After onehot_track_fwd and onehot_track_rev\n",
      "MEMORY 0.334651392\n",
      "data_to_embed_fwd and data_to_embed_rev instantiated\n",
      "MEMORY 0.334651392\n",
      "data_to_embed_fwd and data_to_embed_rev prepared shapes are (104, 25, 4) and (104, 25, 4)\n",
      "MEMORY 0.334651392\n",
      "data_to_embed_fwd and data_to_embed_rev normalized\n",
      "MEMORY 0.334651392\n",
      "embedding_fwd and embedding_rev prepared\n",
      "MEMORY 0.443682816\n",
      "Finished embeddings computation - intermediate vars in scope\n",
      "MEMORY 0.443682816\n",
      "Finished embedding computation in 3.62 s\n",
      "MEMORY 0.443682816\n",
      "Starting affinity matrix computations\n",
      "MEMORY 0.443682816\n",
      "Finished affinity matrix computations in 0.06 s\n",
      "MEMORY 0.4436992\n"
     ]
    },
    {
     "name": "stderr",
     "output_type": "stream",
     "text": [
      "[Parallel(n_jobs=1)]: Using backend SequentialBackend with 1 concurrent workers.\n",
      "[Parallel(n_jobs=1)]: Done 104 out of 104 | elapsed:    0.1s finished\n"
     ]
    },
    {
     "name": "stdout",
     "output_type": "stream",
     "text": [
      "(Round 1) Computed coarse affmat\n",
      "MEMORY 0.352161792\n",
      "(Round 1) Computing affinity matrix on nearest neighbors\n",
      "MEMORY 0.352161792\n",
      "Launching nearest neighbors affmat calculation job\n",
      "MEMORY 0.35350528\n",
      "Parallel runs completed\n",
      "MEMORY 0.338415616\n",
      "Job completed in: 0.86 s\n",
      "MEMORY 0.338415616\n",
      "Launching nearest neighbors affmat calculation job\n",
      "MEMORY 0.337555456\n",
      "Parallel runs completed\n",
      "MEMORY 0.337555456\n",
      "Job completed in: 0.87 s\n",
      "MEMORY 0.337555456\n",
      "(Round 1) Computed affinity matrix on nearest neighbors in 1.97 s\n",
      "MEMORY 0.336289792\n",
      "Filtered down to 99 of 104\n",
      "(Round 1) Retained 99 rows out of 104 after filtering\n",
      "MEMORY 0.336289792\n",
      "(Round 1) Computing density adapted affmat\n",
      "MEMORY 0.336289792\n",
      "[t-SNE] Computed conditional probabilities for sample 99 / 99\n",
      "[t-SNE] Mean sigma: 0.226334\n",
      "(Round 1) Computing clustering\n",
      "MEMORY 0.336289792\n",
      "Beginning preprocessing + Louvain\n",
      "MEMORY 0.336289792\n",
      "Wrote graph to binary file in 0.0132598876953125 seconds\n",
      "MEMORY 0.336289792\n",
      "Running Louvain modularity optimization\n",
      "MEMORY 0.336289792\n"
     ]
    },
    {
     "name": "stderr",
     "output_type": "stream",
     "text": [
      "[Parallel(n_jobs=1)]: Using backend SequentialBackend with 1 concurrent workers.\n"
     ]
    },
    {
     "name": "stdout",
     "output_type": "stream",
     "text": [
      "Louvain completed 200 runs in 7.308541774749756 seconds\n",
      "MEMORY 0.336289792\n",
      "Preparing sparse coo_matrix\n"
     ]
    },
    {
     "name": "stderr",
     "output_type": "stream",
     "text": [
      "[Parallel(n_jobs=1)]: Done 200 out of 200 | elapsed:    7.3s finished\n",
      "200it [00:00, 2119.66it/s]\n"
     ]
    },
    {
     "name": "stdout",
     "output_type": "stream",
     "text": [
      "Prepared sparse coo_matrix in  0.10066509246826172 s\n",
      "MEMORY 0.336289792\n",
      "Transformed affinity matrix\n",
      "MEMORY 0.336289792\n",
      "Wrote graph to binary file in 0.008959770202636719 seconds\n",
      "MEMORY 0.336289792\n",
      "Running Louvain modularity optimization\n",
      "MEMORY 0.336289792\n",
      "After 1 runs, maximum modularity is Q = 0.679919\n",
      "MEMORY 0.336289792\n",
      "After 5 runs, maximum modularity is Q = 0.69599\n",
      "MEMORY 0.336289792\n",
      "Louvain completed 55 runs in 1.1365220546722412 seconds\n",
      "MEMORY 0.336289792\n",
      "Got communities, graph, Q\n",
      "MEMORY 0.336289792\n",
      "Packaged as cluster results\n",
      "MEMORY 0.336289792\n",
      "Preproc + Louvain took 8.621917247772217 s\n",
      "MEMORY 0.336289792\n",
      "Got 7 clusters after round 1\n",
      "Counts:\n",
      "{6: 5, 1: 16, 3: 15, 4: 12, 0: 27, 2: 15, 5: 9}\n",
      "MEMORY 0.336289792\n",
      "(Round 1) Aggregating seqlets in each cluster\n",
      "MEMORY 0.336289792\n",
      "Aggregating for cluster 0 with 27 seqlets\n",
      "MEMORY 0.336289792\n",
      "Trimmed 0 out of 27\n",
      "Skipped 6 seqlets\n",
      "Aggregating for cluster 1 with 16 seqlets\n",
      "MEMORY 0.336289792\n",
      "Trimmed 1 out of 16\n",
      "Aggregating for cluster 2 with 15 seqlets\n",
      "MEMORY 0.336289792\n",
      "Trimmed 0 out of 15\n",
      "Skipped 2 seqlets\n",
      "Aggregating for cluster 3 with 15 seqlets\n",
      "MEMORY 0.336289792\n",
      "Trimmed 0 out of 15\n",
      "Skipped 1 seqlets\n",
      "Aggregating for cluster 4 with 12 seqlets\n",
      "MEMORY 0.336293888\n",
      "Trimmed 0 out of 12\n",
      "Skipped 2 seqlets\n",
      "Aggregating for cluster 5 with 9 seqlets\n",
      "MEMORY 0.336293888\n",
      "Trimmed 0 out of 9\n",
      "Aggregating for cluster 6 with 5 seqlets\n",
      "MEMORY 0.336293888\n",
      "Trimmed 0 out of 5\n",
      "(Round 2) num seqlets: 87\n",
      "(Round 2) Computing coarse affmat\n",
      "MEMORY 0.336293888\n",
      "Beginning embedding computation\n",
      "MEMORY 0.336293888\n",
      "Computing embeddings\n",
      "MEMORY 0.336293888\n",
      "After onehot_track_fwd and onehot_track_rev\n",
      "MEMORY 0.336293888\n",
      "data_to_embed_fwd and data_to_embed_rev instantiated\n",
      "MEMORY 0.336293888\n",
      "data_to_embed_fwd and data_to_embed_rev prepared shapes are (87, 25, 4) and (87, 25, 4)\n",
      "MEMORY 0.336293888\n",
      "data_to_embed_fwd and data_to_embed_rev normalized\n",
      "MEMORY 0.336293888\n",
      "embedding_fwd and embedding_rev prepared\n",
      "MEMORY 0.481718272\n",
      "Finished embeddings computation - intermediate vars in scope\n",
      "MEMORY 0.481718272\n",
      "Finished embedding computation in 2.89 s\n",
      "MEMORY 0.481718272\n",
      "Starting affinity matrix computations\n",
      "MEMORY 0.481718272\n",
      "Finished affinity matrix computations in 0.03 s\n",
      "MEMORY 0.481718272\n",
      "(Round 2) Computed coarse affmat\n",
      "MEMORY 0.481046528\n",
      "(Round 2) Computing affinity matrix on nearest neighbors\n",
      "MEMORY 0.481046528\n",
      "Launching nearest neighbors affmat calculation job\n",
      "MEMORY 0.481325056\n"
     ]
    },
    {
     "name": "stderr",
     "output_type": "stream",
     "text": [
      "[Parallel(n_jobs=1)]: Using backend SequentialBackend with 1 concurrent workers.\n",
      "[Parallel(n_jobs=1)]: Done  87 out of  87 | elapsed:    0.0s finished\n"
     ]
    },
    {
     "name": "stdout",
     "output_type": "stream",
     "text": [
      "Parallel runs completed\n",
      "MEMORY 0.48216064\n",
      "Job completed in: 0.6 s\n",
      "MEMORY 0.48216064\n",
      "Launching nearest neighbors affmat calculation job\n",
      "MEMORY 0.48216064\n",
      "Parallel runs completed\n",
      "MEMORY 0.48216064\n",
      "Job completed in: 0.63 s\n",
      "MEMORY 0.48216064\n",
      "(Round 2) Computed affinity matrix on nearest neighbors in 1.42 s\n",
      "MEMORY 0.343842816\n",
      "Not applying filtering for rounds above first round\n",
      "MEMORY 0.343842816\n",
      "(Round 2) Computing density adapted affmat\n",
      "MEMORY 0.343842816\n",
      "[t-SNE] Computed conditional probabilities for sample 87 / 87\n",
      "[t-SNE] Mean sigma: 0.230037\n",
      "(Round 2) Computing clustering\n",
      "MEMORY 0.343842816\n",
      "Beginning preprocessing + Louvain\n",
      "MEMORY 0.343842816\n",
      "Wrote graph to binary file in 0.02050924301147461 seconds\n",
      "MEMORY 0.343842816\n",
      "Running Louvain modularity optimization\n",
      "MEMORY 0.343842816\n"
     ]
    },
    {
     "name": "stderr",
     "output_type": "stream",
     "text": [
      "[Parallel(n_jobs=1)]: Using backend SequentialBackend with 1 concurrent workers.\n"
     ]
    },
    {
     "name": "stdout",
     "output_type": "stream",
     "text": [
      "Louvain completed 200 runs in 7.3407368659973145 seconds\n",
      "MEMORY 0.343842816\n",
      "Preparing sparse coo_matrix\n"
     ]
    },
    {
     "name": "stderr",
     "output_type": "stream",
     "text": [
      "[Parallel(n_jobs=1)]: Done 200 out of 200 | elapsed:    7.3s finished\n",
      "200it [00:00, 2255.66it/s]\n"
     ]
    },
    {
     "name": "stdout",
     "output_type": "stream",
     "text": [
      "Prepared sparse coo_matrix in  0.09506773948669434 s\n",
      "MEMORY 0.343842816\n",
      "Transformed affinity matrix\n",
      "MEMORY 0.343842816\n",
      "Wrote graph to binary file in 0.00486302375793457 seconds\n",
      "MEMORY 0.343842816\n",
      "Running Louvain modularity optimization\n",
      "MEMORY 0.343842816\n",
      "After 1 runs, maximum modularity is Q = 0.764153\n",
      "MEMORY 0.343842816\n",
      "Louvain completed 51 runs in 1.0230498313903809 seconds\n",
      "MEMORY 0.343842816\n",
      "Got communities, graph, Q\n",
      "MEMORY 0.343842816\n",
      "Packaged as cluster results\n",
      "MEMORY 0.343842816\n",
      "Preproc + Louvain took 8.536100149154663 s\n",
      "MEMORY 0.343842816\n",
      "Got 10 clusters after round 2\n",
      "Counts:\n",
      "{5: 10, 6: 8, 7: 6, 0: 15, 4: 10, 2: 10, 8: 5, 9: 2, 3: 10, 1: 11}\n",
      "MEMORY 0.343842816\n",
      "(Round 2) Aggregating seqlets in each cluster\n",
      "MEMORY 0.343842816\n",
      "Aggregating for cluster 0 with 15 seqlets\n",
      "MEMORY 0.343842816\n",
      "Trimmed 2 out of 15\n",
      "Aggregating for cluster 1 with 11 seqlets\n",
      "MEMORY 0.343842816\n",
      "Trimmed 0 out of 11\n",
      "Aggregating for cluster 2 with 10 seqlets\n",
      "MEMORY 0.343842816\n",
      "Trimmed 0 out of 10\n",
      "Aggregating for cluster 3 with 10 seqlets\n",
      "MEMORY 0.343842816\n",
      "Trimmed 0 out of 10\n",
      "Aggregating for cluster 4 with 10 seqlets\n",
      "MEMORY 0.343842816\n",
      "Trimmed 0 out of 10\n",
      "Aggregating for cluster 5 with 10 seqlets\n",
      "MEMORY 0.343842816\n",
      "Trimmed 2 out of 10\n",
      "Aggregating for cluster 6 with 8 seqlets\n",
      "MEMORY 0.343842816\n",
      "Trimmed 0 out of 8\n",
      "Aggregating for cluster 7 with 6 seqlets\n",
      "MEMORY 0.343842816\n",
      "Trimmed 0 out of 6\n",
      "Aggregating for cluster 8 with 5 seqlets\n",
      "MEMORY 0.343842816\n",
      "Trimmed 0 out of 5\n",
      "Aggregating for cluster 9 with 2 seqlets\n",
      "MEMORY 0.343842816\n",
      "Trimmed 0 out of 2\n",
      "Got 10 clusters\n",
      "Splitting into subclusters...\n",
      "MEMORY 0.343842816\n",
      "Merging on 10 clusters\n",
      "MEMORY 0.343842816\n",
      "On merging iteration 1\n",
      "Computing pattern to seqlet distances\n",
      "Computing pattern to seqlet distances took 0.4188871383666992 s\n",
      "Computing pattern to pattern distances\n",
      "Collapsing 0 & 4 with prob 4.37291618685103e-05 and sim 1.9503740885351395\n",
      "Collapsing 0 & 1 with prob 6.830020343087511e-06 and sim 1.9385035126382142\n",
      "Collapsing 0 & 8 with prob 2.317623077149091e-05 and sim 1.9312167477209932\n",
      "Collapsing 0 & 3 with prob 6.020801720836262e-05 and sim 1.92809267808359\n",
      "Collapsing 1 & 4 with prob 2.584880019387114e-06 and sim 1.9262230065336639\n",
      "Collapsing 3 & 4 with prob 3.5461702097761987e-05 and sim 1.9146000508921683\n",
      "Collapsing 0 & 7 with prob 2.9588673116987283e-06 and sim 1.9138941343502278\n",
      "Collapsing 0 & 6 with prob 2.0564569933231455e-06 and sim 1.91242965703532\n",
      "Collapsing 2 & 5 with prob 1.3867664711344494e-05 and sim 1.9108462512286892\n",
      "Collapsing 3 & 6 with prob 3.5841235926946777e-06 and sim 1.9058978053285522\n",
      "Collapsing 3 & 8 with prob 0.00013548796454263324 and sim 1.9056808764856799\n",
      "Collapsing 4 & 7 with prob 4.412237879389978e-06 and sim 1.8953483145041397\n",
      "Collapsing 4 & 6 with prob 2.214674287635875e-06 and sim 1.8930713367436565\n",
      "Collapsing 4 & 8 with prob 5.46910562523367e-06 and sim 1.8832554127658243\n",
      "Collapsing 7 & 8 with prob 1.3524227036041007e-05 and sim 1.8764011926075617\n",
      "Collapsing 4 & 5 with prob 3.058273802087253e-05 and sim 1.8760167228143731\n",
      "Collapsing 5 & 8 with prob 5.086568622970852e-06 and sim 1.8758288961183929\n",
      "Collapsing 2 & 3 with prob 2.627160236074976e-05 and sim 1.8592450327776493\n",
      "Collapsing 2 & 8 with prob 7.410108871941937e-06 and sim 1.8591895749083855\n",
      "Collapsing 3 & 7 with prob 9.220308683669153e-06 and sim 1.8556416227900099\n",
      "Collapsing 2 & 4 with prob 1.2669975942002414e-05 and sim 1.8537253452321893\n",
      "Collapsing 0 & 5 with prob 1.3922793663107826e-05 and sim 1.8454185992687255\n",
      "Collapsing 0 & 2 with prob 1.3109966215578505e-05 and sim 1.8307576673859436\n",
      "Collapsing 3 & 5 with prob 9.941737258712937e-06 and sim 1.816617289570315\n",
      "Collapsing 5 & 7 with prob 1.5274003900763792e-06 and sim 1.801940686318272\n",
      "Trimmed 0 out of 23\n",
      "Trimmed 0 out of 33\n",
      "Trimmed 5 out of 38\n",
      "Trimmed 0 out of 43\n",
      "Trimmed 4 out of 47\n",
      "Trimmed 8 out of 51\n",
      "Trimmed 0 out of 18\n",
      "Trimmed 0 out of 61\n",
      "On merging iteration 2\n",
      "Computing pattern to seqlet distances\n",
      "Computing pattern to seqlet distances took 0.32022786140441895 s\n",
      "Computing pattern to pattern distances\n",
      "Got 2 patterns after merging\n",
      "MEMORY 0.337330176\n",
      "Performing seqlet reassignment\n",
      "MEMORY 0.337330176\n",
      "Cross contin jaccard time taken: 0.0 s\n",
      "Cross contin jaccard time taken: 0.0 s\n",
      "Got 1 patterns after reassignment\n",
      "MEMORY 0.337330176\n",
      "Total time taken is 30.84s\n",
      "MEMORY 0.337330176\n",
      "On metacluster 0\n",
      "Metacluster size 115\n",
      "Relevant tasks:  ('task0', 'task2')\n",
      "Relevant signs:  (1, 1)\n",
      "MEMORY 0.337330176\n",
      "TfModiscoSeqletsToPatternsFactory: seed=1234\n",
      "(Round 1) num seqlets: 115\n",
      "(Round 1) Computing coarse affmat\n",
      "MEMORY 0.337330176\n",
      "Beginning embedding computation\n",
      "MEMORY 0.337330176\n",
      "Computing embeddings\n",
      "MEMORY 0.337330176\n",
      "After onehot_track_fwd and onehot_track_rev\n",
      "MEMORY 0.337330176\n",
      "data_to_embed_fwd and data_to_embed_rev instantiated\n",
      "MEMORY 0.337330176\n",
      "data_to_embed_fwd and data_to_embed_rev prepared shapes are (115, 25, 4) and (115, 25, 4)\n",
      "MEMORY 0.337330176\n",
      "data_to_embed_fwd and data_to_embed_rev normalized\n",
      "MEMORY 0.337330176\n",
      "embedding_fwd and embedding_rev prepared\n",
      "MEMORY 0.443015168\n",
      "Finished embeddings computation - intermediate vars in scope\n",
      "MEMORY 0.443015168\n",
      "Finished embedding computation in 3.68 s\n",
      "MEMORY 0.443015168\n",
      "Starting affinity matrix computations\n",
      "MEMORY 0.443015168\n",
      "Finished affinity matrix computations in 0.05 s\n",
      "MEMORY 0.443785216\n",
      "(Round 1) Computed coarse affmat\n",
      "MEMORY 0.443052032\n",
      "(Round 1) Computing affinity matrix on nearest neighbors\n",
      "MEMORY 0.443052032\n"
     ]
    },
    {
     "name": "stderr",
     "output_type": "stream",
     "text": [
      "[Parallel(n_jobs=1)]: Using backend SequentialBackend with 1 concurrent workers.\n",
      "[Parallel(n_jobs=1)]: Done 115 out of 115 | elapsed:    0.0s finished\n"
     ]
    },
    {
     "name": "stdout",
     "output_type": "stream",
     "text": [
      "Launching nearest neighbors affmat calculation job\n",
      "MEMORY 0.444157952\n",
      "Parallel runs completed\n",
      "MEMORY 0.348094464\n",
      "Job completed in: 1.01 s\n",
      "MEMORY 0.348094464\n",
      "Launching nearest neighbors affmat calculation job\n",
      "MEMORY 0.343793664\n",
      "Parallel runs completed\n",
      "MEMORY 0.343814144\n",
      "Job completed in: 1.03 s\n",
      "MEMORY 0.343814144\n",
      "(Round 1) Computed affinity matrix on nearest neighbors in 2.26 s\n",
      "MEMORY 0.338808832\n",
      "Filtered down to 109 of 115\n",
      "(Round 1) Retained 109 rows out of 115 after filtering\n",
      "MEMORY 0.338808832\n",
      "(Round 1) Computing density adapted affmat\n",
      "MEMORY 0.338808832\n",
      "[t-SNE] Computed conditional probabilities for sample 109 / 109\n",
      "[t-SNE] Mean sigma: 0.219531\n",
      "(Round 1) Computing clustering\n",
      "MEMORY 0.338808832\n",
      "Beginning preprocessing + Louvain\n",
      "MEMORY 0.338808832\n",
      "Wrote graph to binary file in 0.011185884475708008 seconds\n",
      "MEMORY 0.338808832\n",
      "Running Louvain modularity optimization\n",
      "MEMORY 0.338812928\n"
     ]
    },
    {
     "name": "stderr",
     "output_type": "stream",
     "text": [
      "[Parallel(n_jobs=1)]: Using backend SequentialBackend with 1 concurrent workers.\n"
     ]
    },
    {
     "name": "stdout",
     "output_type": "stream",
     "text": [
      "Louvain completed 200 runs in 7.322318077087402 seconds\n",
      "MEMORY 0.338812928\n",
      "Preparing sparse coo_matrix\n"
     ]
    },
    {
     "name": "stderr",
     "output_type": "stream",
     "text": [
      "[Parallel(n_jobs=1)]: Done 200 out of 200 | elapsed:    7.3s finished\n",
      "200it [00:00, 1944.54it/s]\n"
     ]
    },
    {
     "name": "stdout",
     "output_type": "stream",
     "text": [
      "Prepared sparse coo_matrix in  0.10840296745300293 s\n",
      "MEMORY 0.338812928\n",
      "Transformed affinity matrix\n",
      "MEMORY 0.338812928\n",
      "Wrote graph to binary file in 0.007862091064453125 seconds\n",
      "MEMORY 0.338812928\n",
      "Running Louvain modularity optimization\n",
      "MEMORY 0.338812928\n",
      "After 1 runs, maximum modularity is Q = 0.678165\n",
      "MEMORY 0.338812928\n",
      "After 2 runs, maximum modularity is Q = 0.680689\n",
      "MEMORY 0.338812928\n",
      "After 3 runs, maximum modularity is Q = 0.698542\n",
      "MEMORY 0.338812928\n",
      "Louvain completed 53 runs in 1.1024887561798096 seconds\n",
      "MEMORY 0.338812928\n",
      "Got communities, graph, Q\n",
      "MEMORY 0.338812928\n",
      "Packaged as cluster results\n",
      "MEMORY 0.338812928\n",
      "Preproc + Louvain took 8.618950843811035 s\n",
      "MEMORY 0.338812928\n",
      "Got 6 clusters after round 1\n",
      "Counts:\n",
      "{2: 21, 1: 22, 4: 18, 0: 25, 3: 20, 5: 3}\n",
      "MEMORY 0.338812928\n",
      "(Round 1) Aggregating seqlets in each cluster\n",
      "MEMORY 0.338812928\n",
      "Aggregating for cluster 0 with 25 seqlets\n",
      "MEMORY 0.338812928\n",
      "Trimmed 0 out of 25\n",
      "Skipped 3 seqlets\n",
      "Aggregating for cluster 1 with 22 seqlets\n",
      "MEMORY 0.338812928\n",
      "Trimmed 2 out of 22\n",
      "Skipped 3 seqlets\n",
      "Aggregating for cluster 2 with 21 seqlets\n",
      "MEMORY 0.338812928\n",
      "Trimmed 0 out of 21\n",
      "Skipped 6 seqlets\n",
      "Aggregating for cluster 3 with 20 seqlets\n",
      "MEMORY 0.338812928\n",
      "Trimmed 3 out of 20\n",
      "Skipped 2 seqlets\n",
      "Aggregating for cluster 4 with 18 seqlets\n",
      "MEMORY 0.338812928\n",
      "Trimmed 0 out of 18\n",
      "Skipped 3 seqlets\n",
      "Aggregating for cluster 5 with 3 seqlets\n",
      "MEMORY 0.338812928\n",
      "Trimmed 0 out of 3\n",
      "(Round 2) num seqlets: 86\n",
      "(Round 2) Computing coarse affmat\n",
      "MEMORY 0.338812928\n",
      "Beginning embedding computation\n",
      "MEMORY 0.338812928\n",
      "Computing embeddings\n",
      "MEMORY 0.338812928\n",
      "After onehot_track_fwd and onehot_track_rev\n",
      "MEMORY 0.338812928\n",
      "data_to_embed_fwd and data_to_embed_rev instantiated\n",
      "MEMORY 0.338812928\n",
      "data_to_embed_fwd and data_to_embed_rev prepared shapes are (86, 25, 4) and (86, 25, 4)\n",
      "MEMORY 0.338812928\n",
      "data_to_embed_fwd and data_to_embed_rev normalized\n",
      "MEMORY 0.338812928\n",
      "embedding_fwd and embedding_rev prepared\n",
      "MEMORY 0.472633344\n",
      "Finished embeddings computation - intermediate vars in scope\n",
      "MEMORY 0.472633344\n",
      "Finished embedding computation in 2.89 s\n",
      "MEMORY 0.472633344\n",
      "Starting affinity matrix computations\n",
      "MEMORY 0.472633344\n",
      "Finished affinity matrix computations in 0.03 s\n",
      "MEMORY 0.472633344\n",
      "(Round 2) Computed coarse affmat\n",
      "MEMORY 0.471781376\n",
      "(Round 2) Computing affinity matrix on nearest neighbors\n",
      "MEMORY 0.471781376\n",
      "Launching nearest neighbors affmat calculation job\n",
      "MEMORY 0.472211456\n"
     ]
    },
    {
     "name": "stderr",
     "output_type": "stream",
     "text": [
      "[Parallel(n_jobs=1)]: Using backend SequentialBackend with 1 concurrent workers.\n",
      "[Parallel(n_jobs=1)]: Done  86 out of  86 | elapsed:    0.0s finished\n"
     ]
    },
    {
     "name": "stdout",
     "output_type": "stream",
     "text": [
      "Parallel runs completed\n",
      "MEMORY 0.47304704\n",
      "Job completed in: 0.63 s\n",
      "MEMORY 0.47304704\n",
      "Launching nearest neighbors affmat calculation job\n",
      "MEMORY 0.47304704\n",
      "Parallel runs completed\n",
      "MEMORY 0.47304704\n",
      "Job completed in: 0.62 s\n",
      "MEMORY 0.47304704\n",
      "(Round 2) Computed affinity matrix on nearest neighbors in 1.45 s\n",
      "MEMORY 0.363446272\n",
      "Not applying filtering for rounds above first round\n",
      "MEMORY 0.363446272\n",
      "(Round 2) Computing density adapted affmat\n",
      "MEMORY 0.363446272\n",
      "[t-SNE] Computed conditional probabilities for sample 86 / 86\n",
      "[t-SNE] Mean sigma: 0.223133\n",
      "(Round 2) Computing clustering\n",
      "MEMORY 0.363446272\n",
      "Beginning preprocessing + Louvain\n",
      "MEMORY 0.363446272\n",
      "Wrote graph to binary file in 0.008213996887207031 seconds\n",
      "MEMORY 0.363446272\n",
      "Running Louvain modularity optimization\n",
      "MEMORY 0.363446272\n"
     ]
    },
    {
     "name": "stderr",
     "output_type": "stream",
     "text": [
      "[Parallel(n_jobs=1)]: Using backend SequentialBackend with 1 concurrent workers.\n"
     ]
    },
    {
     "name": "stdout",
     "output_type": "stream",
     "text": [
      "Louvain completed 200 runs in 7.242902994155884 seconds\n",
      "MEMORY 0.363446272\n",
      "Preparing sparse coo_matrix\n"
     ]
    },
    {
     "name": "stderr",
     "output_type": "stream",
     "text": [
      "[Parallel(n_jobs=1)]: Done 200 out of 200 | elapsed:    7.2s finished\n",
      "200it [00:00, 2170.96it/s]\n"
     ]
    },
    {
     "name": "stdout",
     "output_type": "stream",
     "text": [
      "Prepared sparse coo_matrix in  0.0976247787475586 s\n",
      "MEMORY 0.363446272\n",
      "Transformed affinity matrix\n",
      "MEMORY 0.363446272\n",
      "Wrote graph to binary file in 0.005459785461425781 seconds\n",
      "MEMORY 0.363446272\n",
      "Running Louvain modularity optimization\n",
      "MEMORY 0.363446272\n",
      "After 1 runs, maximum modularity is Q = 0.700257\n",
      "MEMORY 0.363446272\n",
      "After 5 runs, maximum modularity is Q = 0.709545\n",
      "MEMORY 0.363446272\n",
      "Louvain completed 55 runs in 1.1324641704559326 seconds\n",
      "MEMORY 0.363446272\n",
      "Got communities, graph, Q\n",
      "MEMORY 0.363446272\n",
      "Packaged as cluster results\n",
      "MEMORY 0.363446272\n",
      "Preproc + Louvain took 8.539399862289429 s\n",
      "MEMORY 0.363446272\n",
      "Got 5 clusters after round 2\n",
      "Counts:\n",
      "{2: 19, 1: 21, 4: 8, 0: 22, 3: 16}\n",
      "MEMORY 0.363446272\n",
      "(Round 2) Aggregating seqlets in each cluster\n",
      "MEMORY 0.363446272\n",
      "Aggregating for cluster 0 with 22 seqlets\n",
      "MEMORY 0.363446272\n",
      "Trimmed 0 out of 22\n",
      "Aggregating for cluster 1 with 21 seqlets\n",
      "MEMORY 0.363446272\n",
      "Trimmed 1 out of 21\n",
      "Aggregating for cluster 2 with 19 seqlets\n",
      "MEMORY 0.363446272\n",
      "Trimmed 0 out of 19\n",
      "Aggregating for cluster 3 with 16 seqlets\n",
      "MEMORY 0.363446272\n",
      "Trimmed 0 out of 16\n",
      "Aggregating for cluster 4 with 8 seqlets\n",
      "MEMORY 0.363446272\n",
      "Trimmed 0 out of 8\n",
      "Got 5 clusters\n",
      "Splitting into subclusters...\n",
      "MEMORY 0.363446272\n",
      "Merging on 5 clusters\n",
      "MEMORY 0.363446272\n",
      "On merging iteration 1\n",
      "Computing pattern to seqlet distances\n",
      "Computing pattern to seqlet distances took 0.3873462677001953 s\n",
      "Computing pattern to pattern distances\n",
      "Collapsing 0 & 1 with prob 0.0002823974369117803 and sim 1.9456035066295068\n",
      "Collapsing 1 & 2 with prob 0.0002455653705628902 and sim 1.9415756539583977\n",
      "Collapsing 1 & 4 with prob 4.912708090606337e-05 and sim 1.9321966247133013\n",
      "Collapsing 2 & 3 with prob 1.635773041794524e-05 and sim 1.9310862151106551\n",
      "Collapsing 2 & 4 with prob 3.037938278838355e-05 and sim 1.9185880721393045\n",
      "Collapsing 1 & 3 with prob 4.124908397148514e-05 and sim 1.9181464403437107\n",
      "Collapsing 0 & 4 with prob 1.5862869295841177e-05 and sim 1.9114950512459765\n",
      "Collapsing 3 & 4 with prob 3.3845203550498993e-06 and sim 1.9045441884755516\n",
      "Collapsing 0 & 2 with prob 3.2040278518216247e-05 and sim 1.9031286588372838\n",
      "Collapsing 0 & 3 with prob 3.2036986451441582e-06 and sim 1.8698286992185305\n",
      "Trimmed 0 out of 42\n",
      "Trimmed 0 out of 61\n",
      "Trimmed 0 out of 69\n",
      "Trimmed 1 out of 85\n",
      "On merging iteration 2\n",
      "Computing pattern to seqlet distances\n",
      "Computing pattern to seqlet distances took 0.32068514823913574 s\n",
      "Computing pattern to pattern distances\n",
      "Got 1 patterns after merging\n",
      "MEMORY 0.36345856\n",
      "Performing seqlet reassignment\n",
      "MEMORY 0.36345856\n",
      "Skipped 2 seqlets\n",
      "Got 1 patterns after reassignment\n",
      "MEMORY 0.36345856\n",
      "Total time taken is 30.94s\n",
      "MEMORY 0.36345856\n"
     ]
    }
   ],
   "source": [
    "%matplotlib inline\n",
    "import h5py\n",
    "import numpy as np\n",
    "import modisco\n",
    "import modisco.cluster.phenograph.core\n",
    "reload(modisco.cluster.phenograph.core)\n",
    "import modisco.cluster.phenograph.cluster\n",
    "reload(modisco.cluster.phenograph.cluster)\n",
    "import modisco.cluster.phenograph\n",
    "reload(modisco.cluster.phenograph)\n",
    "import modisco.aggregator\n",
    "reload(modisco.aggregator)\n",
    "import modisco.cluster.core\n",
    "reload(modisco.cluster.core)\n",
    "import modisco.cluster\n",
    "reload(modisco.cluster)\n",
    "import modisco.affinitymat.core\n",
    "reload(modisco.affinitymat.core)\n",
    "import modisco.affinitymat.transformers\n",
    "reload(modisco.affinitymat.transformers)\n",
    "import modisco.tfmodisco_workflow.seqlets_to_patterns\n",
    "reload(modisco.tfmodisco_workflow.seqlets_to_patterns)\n",
    "import modisco.tfmodisco_workflow.workflow\n",
    "reload(modisco.tfmodisco_workflow.workflow)\n",
    "\n",
    "null_per_pos_scores = modisco.coordproducers.LaplaceNullDist(num_to_samp=5000)\n",
    "tfmodisco_results = modisco.tfmodisco_workflow.workflow.TfModiscoWorkflow(\n",
    "                    #Slight modifications from the default settings\n",
    "                    sliding_window_size=15,\n",
    "                    flank_size=5,\n",
    "                    target_seqlet_fdr=0.15,\n",
    "                    seqlets_to_patterns_factory=\n",
    "                     modisco.tfmodisco_workflow.seqlets_to_patterns.TfModiscoSeqletsToPatternsFactory(\n",
    "                        trim_to_window_size=15,\n",
    "                        initial_flank_to_add=5,\n",
    "                        kmer_len=5, num_gaps=1,\n",
    "                        num_mismatches=0,\n",
    "                        final_min_cluster_size=60,\n",
    "                        n_cores=1)\n",
    "                )(\n",
    "                 task_names=[\"task0\", \"task1\", \"task2\"],\n",
    "                 contrib_scores=task_to_scores,\n",
    "                 hypothetical_contribs=task_to_hyp_scores,\n",
    "                 one_hot=onehot_data,\n",
    "                 null_per_pos_scores = null_per_pos_scores)"
   ]
  },
  {
   "cell_type": "markdown",
   "metadata": {
    "colab_type": "text",
    "id": "ibQhUzCN_S0j"
   },
   "source": [
    "## Save Results"
   ]
  },
  {
   "cell_type": "code",
   "execution_count": null,
   "metadata": {
    "colab": {},
    "colab_type": "code",
    "id": "YAOto6Yx-5qD"
   },
   "outputs": [],
   "source": [
    "import h5py\n",
    "import modisco.util\n",
    "reload(modisco.util)\n",
    "![[ -e results.hdf5 ]] && rm results.hdf5\n",
    "grp = h5py.File(\"results.hdf5\")\n",
    "tfmodisco_results.save_hdf5(grp)\n",
    "grp.close()"
   ]
  },
  {
   "cell_type": "markdown",
   "metadata": {
    "colab_type": "text",
    "id": "UxjUsY4B_Zcf"
   },
   "source": [
    "## Print results directly from hdf5"
   ]
  },
  {
   "cell_type": "code",
   "execution_count": null,
   "metadata": {
    "colab": {
     "base_uri": "https://localhost:8080/",
     "height": 1000
    },
    "colab_type": "code",
    "id": "SvRgsV6D_WYR",
    "outputId": "2bfc41ab-d0d3-4dde-b8fb-a39515e8176f",
    "scrolled": false
   },
   "outputs": [],
   "source": [
    "from collections import Counter\n",
    "from modisco.visualization import viz_sequence\n",
    "reload(viz_sequence)\n",
    "from matplotlib import pyplot as plt\n",
    "\n",
    "import modisco.affinitymat.core\n",
    "reload(modisco.affinitymat.core)\n",
    "import modisco.cluster.phenograph.core\n",
    "reload(modisco.cluster.phenograph.core)\n",
    "import modisco.cluster.phenograph.cluster\n",
    "reload(modisco.cluster.phenograph.cluster)\n",
    "import modisco.cluster.core\n",
    "reload(modisco.cluster.core)\n",
    "import modisco.aggregator\n",
    "reload(modisco.aggregator)\n",
    "\n",
    "hdf5_results = h5py.File(\"results.hdf5\",\"r\")\n",
    "\n",
    "print(\"Metaclusters heatmap\")\n",
    "import seaborn as sns\n",
    "activity_patterns = np.array(hdf5_results['metaclustering_results']['attribute_vectors'])[\n",
    "                    np.array(\n",
    "        [x[0] for x in sorted(\n",
    "                enumerate(hdf5_results['metaclustering_results']['metacluster_indices']),\n",
    "               key=lambda x: x[1])])]\n",
    "sns.heatmap(activity_patterns, center=0)\n",
    "plt.show()\n",
    "\n",
    "metacluster_names = [\n",
    "    x.decode(\"utf-8\") for x in \n",
    "    list(hdf5_results[\"metaclustering_results\"]\n",
    "         [\"all_metacluster_names\"][:])]\n",
    "\n",
    "all_patterns = []\n",
    "background = np.array([0.27, 0.23, 0.23, 0.27])\n",
    "\n",
    "for metacluster_name in metacluster_names:\n",
    "    print(metacluster_name)\n",
    "    metacluster_grp = (hdf5_results[\"metacluster_idx_to_submetacluster_results\"]\n",
    "                                   [metacluster_name])\n",
    "    print(\"activity pattern:\",metacluster_grp[\"activity_pattern\"][:])\n",
    "    all_pattern_names = [x.decode(\"utf-8\") for x in \n",
    "                         list(metacluster_grp[\"seqlets_to_patterns_result\"]\n",
    "                                             [\"patterns\"][\"all_pattern_names\"][:])]\n",
    "    if (len(all_pattern_names)==0):\n",
    "        print(\"No motifs found for this activity pattern\")\n",
    "    for pattern_name in all_pattern_names:\n",
    "        print(metacluster_name, pattern_name)\n",
    "        all_patterns.append((metacluster_name, pattern_name))\n",
    "        pattern = metacluster_grp[\"seqlets_to_patterns_result\"][\"patterns\"][pattern_name]\n",
    "        print(\"total seqlets:\",len(pattern[\"seqlets_and_alnmts\"][\"seqlets\"]))\n",
    "        print(\"Task 0 hypothetical scores:\")\n",
    "        viz_sequence.plot_weights(pattern[\"task0_hypothetical_contribs\"][\"fwd\"])\n",
    "        print(\"Task 0 actual importance scores:\")\n",
    "        viz_sequence.plot_weights(pattern[\"task0_contrib_scores\"][\"fwd\"])\n",
    "        print(\"Task 1 hypothetical scores:\")\n",
    "        viz_sequence.plot_weights(pattern[\"task1_hypothetical_contribs\"][\"fwd\"])\n",
    "        print(\"Task 1 actual importance scores:\")\n",
    "        viz_sequence.plot_weights(pattern[\"task1_contrib_scores\"][\"fwd\"])\n",
    "        print(\"Task 2 hypothetical scores:\")\n",
    "        viz_sequence.plot_weights(pattern[\"task2_hypothetical_contribs\"][\"fwd\"])\n",
    "        print(\"Task 2 actual importance scores:\")\n",
    "        viz_sequence.plot_weights(pattern[\"task2_contrib_scores\"][\"fwd\"])\n",
    "        print(\"onehot, fwd and rev:\")\n",
    "        viz_sequence.plot_weights(viz_sequence.ic_scale(np.array(pattern[\"sequence\"][\"fwd\"]),\n",
    "                                                        background=background)) \n",
    "        viz_sequence.plot_weights(viz_sequence.ic_scale(np.array(pattern[\"sequence\"][\"rev\"]),\n",
    "                                                        background=background)) \n",
    "        \n",
    "hdf5_results.close()"
   ]
  },
  {
   "cell_type": "markdown",
   "metadata": {
    "colab_type": "text",
    "id": "UFQSYr9q_qI9"
   },
   "source": [
    "## Load the saved hdf5 file\n",
    "Load the results object from the saved file"
   ]
  },
  {
   "cell_type": "code",
   "execution_count": null,
   "metadata": {
    "colab": {},
    "colab_type": "code",
    "id": "WVtrMZ9o_mu0"
   },
   "outputs": [],
   "source": [
    "import h5py\n",
    "import numpy as np\n",
    "import modisco\n",
    "from modisco.tfmodisco_workflow import workflow\n",
    "\n",
    "track_set = modisco.tfmodisco_workflow.workflow.prep_track_set(\n",
    "                task_names=tasks,\n",
    "                contrib_scores=task_to_scores,\n",
    "                hypothetical_contribs=task_to_hyp_scores,\n",
    "                one_hot=onehot_data)\n",
    "\n",
    "grp = h5py.File(\"results.hdf5\",\"r\")\n",
    "loaded_tfmodisco_results =\\\n",
    "    workflow.TfModiscoResults.from_hdf5(grp, track_set=track_set)\n",
    "grp.close()"
   ]
  },
  {
   "cell_type": "markdown",
   "metadata": {
    "colab_type": "text",
    "id": "90lxFiCd_4c-"
   },
   "source": [
    "## Do hit scoring\n",
    "The hit scoring strategy is still in development. For the previous hit scoring strategy, see the version at tag [v0.5.3.1](https://colab.research.google.com/github/kundajelab/tfmodisco/blob/v0.5.3.1/examples/simulated_TAL_GATA_deeplearning/(On_Google_Colab)_With_Hit_Scoring_TF_MoDISco_TAL_GATA.ipynb)\n",
    "\n",
    "### Trim the motifs by information content\n",
    "\n",
    "Before scanning the sequence for hits to motifs, it is worth trimming the motifs by their information content. Let's demonstrate scanning for the GATA motif. We will first trim the motif."
   ]
  },
  {
   "cell_type": "code",
   "execution_count": null,
   "metadata": {
    "colab": {
     "base_uri": "https://localhost:8080/",
     "height": 489
    },
    "colab_type": "code",
    "id": "cxu4zoH90kZr",
    "outputId": "fa5c3701-cef6-4657-fb9e-56be25a52ad7"
   },
   "outputs": [],
   "source": [
    "untrimmed_gata_pattern = (\n",
    "    loaded_tfmodisco_results\n",
    "    .metacluster_idx_to_submetacluster_results[\"metacluster_1\"]\n",
    "    .seqlets_to_patterns_result.patterns[0])\n",
    "print(\"Untrimmed Gata - sequence (scaled by information content)\")\n",
    "viz_sequence.plot_weights(viz_sequence.ic_scale(untrimmed_gata_pattern[\"sequence\"].fwd, background=background))\n",
    "print(\"Untrimmed Gata - task 0 hypothetical scores\")\n",
    "viz_sequence.plot_weights(untrimmed_gata_pattern[\"task0_hypothetical_contribs\"].fwd)\n",
    "trimmed_gata = untrimmed_gata_pattern.trim_by_ic(ppm_track_name=\"sequence\",\n",
    "                                                 background=background,\n",
    "                                                 threshold=0.3)\n",
    "print(\"IC-trimmed Gata - sequence (scaled by information content)\")\n",
    "viz_sequence.plot_weights(viz_sequence.ic_scale(trimmed_gata[\"sequence\"].fwd, background=background))\n"
   ]
  },
  {
   "cell_type": "markdown",
   "metadata": {
    "colab_type": "text",
    "id": "PwuFV-ZG0kZu"
   },
   "source": [
    "Trimming the 45bp GATA motif by information content selected the 9bp subsequence in the range 19-28. Note that the original GATA motif used in the simulation was 10bp long (GATA_disc1 at http://compbio.mit.edu/encode-motifs/ ). Trimming discarded the very first position of that motif, at which there is a weak preference for G followed by A, C and T. Indeed, when we look at the hypothetical importance scores of the untrimmed GATA motif, we see that at position 18 the network has indeed learned a preference for G followed by A, C and T, and that this preference is not apparent when looking at the sequence motif. This reveals an advantage of using the hypothetical importance scores; they can show us the preference of the network even for bases that aren't present in the underlying sequence. In the future, a more principled approaches to doing the trimming based on the hypothetical importance scores could be developed. For now, we will proceed with the version of the motif that has been trimmed by information content.\n",
    "\n",
    "### Perform scanning with the trimmed motif\n",
    "\n",
    "Having trimmed the motif, we will scan the importance score tracks with it. We will compute two kinds of scores. The first (\"masked hCWM cosine similariy\") measures the similarity of the importance scores to the motif (irrespective of the magnitude of the scores), and the second measures the total importance within the window of the motif. Information from both scores will be used to call hits.\n",
    "\n",
    "#### Masked hCWM cosine similarity\n",
    "\n",
    "The masked hCWM cosine similarity is used to gauge the similarity between a TF-MoDISco motif and the contribution scores present at a given window of the input sequence, irrespective of the magnitude of the scores. It is best illustrated with an example. Consider the GATA hypothetical contribution weight matrix (hereby referred to as the hCWM) below (the exact values may not be up to date with the rest of the notebook but are meant to be illustrative):\n",
    "```\n",
    ">>> print(trimmed_gata[\"task0_hypothetical_contribs\"].fwd)\n",
    "[[-0.03782349  0.09118378  0.070142   -0.12350229]\n",
    " [ 0.1215808  -0.08301942 -0.09632582  0.05776444]\n",
    " [-0.1386668  -0.10839121  0.2793305  -0.03227249]\n",
    " [ 0.34087033 -0.20777264 -0.02217297 -0.11092472]\n",
    " [-0.01404373 -0.21645161 -0.04688007  0.27737541]\n",
    " [ 0.1804657  -0.184394   -0.0562734   0.0602017 ]\n",
    " [ 0.24564405 -0.04153355 -0.09036025 -0.11375025]\n",
    " [-0.23648668  0.09994425  0.25375557 -0.11721314]\n",
    " [ 0.05861893  0.04707453  0.10303728 -0.20873074]]\n",
    "```\n",
    "\n",
    "Imagine we wanted to use this to score the sequence `CCGATTCGG`. We could take the cosine similarity between the GATA hCWM and the hypothetical importance scores at `CCGATTCGG`. Empirically, however, we have found that over-reliance on hypothetical importance scores - without grounding in the bases that are actually present in the sequence - can yield false positives. We could take the cosine similarity between the GATA hCWM and the actual contribution scores at `CCGATTCGG`, but this is an unsatisfactory solution because the actual contribution scores at `CCGATTCGG` only have nonzero values at the bases that are actually present at each position in the sequence, whereas the GATA hCWM has nonzero values for all bases at all positions. Instead, we *mask* the hCWM to only consider the bases corresponding to `CCGATTCGG`. Concretely, when scannign the sequence `CCGATTCGG`, we use the following masked hCWM:\n",
    "\n",
    "```\n",
    "[[ 0.0         0.09118378  0.0         0.0       ]\n",
    " [ 0.0        -0.08301942  0.0         0.0       ]\n",
    " [ 0.0         0.0         0.2793305   0.0       ]\n",
    " [ 0.34087033  0.0         0.0         0.0       ]\n",
    " [ 0.0         0.0         0.0         0.27737541]\n",
    " [ 0.0         0.0         0.0         0.0602017 ]\n",
    " [ 0.0        -0.04153355  0.0         0.0       ]\n",
    " [ 0.0         0.0         0.25375557  0.0       ]\n",
    " [ 0.0         0.0         0.10303728  0.0       ]]\n",
    "```\n",
    "Our similarity score for `CCGATTCGG` will then be the cosine similarity between the masked hCWM above and the contribution scores present at `CCGATTCGG`. The masking is done separately for each window scanned. You can refer to the code for how this is achieved efficiently using numpy stride tricks.\n",
    "\n",
    "#### Sum of scores in window\n",
    "\n",
    "This simply consists of taking the sum of the contribution scores in a given window of the input sequence. Looking at the total contribution is useful for identifying motif hits that may look like a good match if you only considered the local sequence, but which may not in fact be strongly bound by the TF because the sequence does not have the requisite cofactor motifs. For example, imagine both TAL and GATA need to be present in order for either TF to bind strongly (this logic is encapsulated in prediction task 0 in the simulation, which is a 1 iff both TAL and GATA are present, and a 0 otherwise). Even though a given portion of the sequence may be an excellent match to the GATA motif, we may not want to consider it a strong motif hit if the TAL motif is not also present in the surrounding sequence. The idea is that the neural network will have learned this logic and will give GATA motifs less importance for task 0 if they are present in a sequence that does not also have TAL. We will see an example of this below.\n"
   ]
  },
  {
   "cell_type": "code",
   "execution_count": null,
   "metadata": {
    "colab": {},
    "colab_type": "code",
    "id": "v0BevaQ2AkD4"
   },
   "outputs": [],
   "source": [
    "#compute the masked hCWM cosine similarity.\n",
    "#In the TAL-GATA simulation, only the forward versions of\n",
    "# the motifs had been embedded for simplicity. But for demonstration purposes, we will scan\n",
    "# for both the fwd and reverse motif.\n",
    "#We will use the scores for task 0, which is a 1 iff both the TAL (CAGATG) and GATA (GATAAG)\n",
    "# motifs are present in the sequence.\n",
    "imp_scores = np.array(task_to_scores[\"task0\"])\n",
    "onehot_seq = np.array(onehot_data)\n",
    "fwd_masked_cosine_sim = modisco.util.compute_masked_cosine_sim(\n",
    "                                     imp_scores=imp_scores,\n",
    "                                     onehot_seq=onehot_seq,\n",
    "                                     weightmat=trimmed_gata[\"task0_hypothetical_contribs\"].fwd)\n",
    "rev_masked_cosine_sim = modisco.util.compute_masked_cosine_sim(\n",
    "                                     imp_scores=imp_scores,\n",
    "                                     onehot_seq=onehot_seq,\n",
    "                                     weightmat=trimmed_gata[\"task0_hypothetical_contribs\"].rev)\n",
    "\n",
    "#We take the max of the masked_cosine_sim on the fwd and reverse strands\n",
    "is_fwd_masked_cosine_sim = fwd_masked_cosine_sim > rev_masked_cosine_sim\n",
    "masked_cosine_sim = (fwd_masked_cosine_sim*is_fwd_masked_cosine_sim\n",
    "                     + rev_masked_cosine_sim*(is_fwd_masked_cosine_sim==False))\n",
    "\n",
    "#Also look at the total sum of scores in each window\n",
    "sum_scores = modisco.util.compute_sum_scores(imp_scores=imp_scores,\n",
    "                                             window_size=len(trimmed_gata[\"task0_hypothetical_contribs\"].fwd))"
   ]
  },
  {
   "cell_type": "markdown",
   "metadata": {
    "colab_type": "text",
    "id": "uKypa3xI0kZw"
   },
   "source": [
    "Visualize the 2-d scatterplot for both masked_cosine_sim and sum_scores"
   ]
  },
  {
   "cell_type": "code",
   "execution_count": null,
   "metadata": {
    "colab": {
     "base_uri": "https://localhost:8080/",
     "height": 280
    },
    "colab_type": "code",
    "id": "6hwvQ1dA0kZx",
    "outputId": "a1d06557-799f-4255-e1fa-9f1064bb6fc6"
   },
   "outputs": [],
   "source": [
    "#note that if you have a large number of datapoints here, you would likely want to subsample\n",
    "# from the arrays. This can be achieved with, e.g. masked_cosine_sim.ravel()[::sumsample_factor]\n",
    "# you may also want to decrease alpha on the scatterplot. In matplotlib, alpha can be as low as 0.002\n",
    "plt.scatter(masked_cosine_sim.ravel(), sum_scores.ravel(), alpha=0.1)\n",
    "plt.xlabel(\"Masked cosine similarity\")\n",
    "plt.ylabel(\"Sum score\")\n",
    "plt.show()"
   ]
  },
  {
   "cell_type": "markdown",
   "metadata": {
    "colab_type": "text",
    "id": "wWBrnbZ30kZz"
   },
   "source": [
    "To decide where to draw the threshold, it is useful to visualize the 1-d histogram for \"masked_cosine_sim\""
   ]
  },
  {
   "cell_type": "code",
   "execution_count": null,
   "metadata": {
    "colab": {
     "base_uri": "https://localhost:8080/",
     "height": 279
    },
    "colab_type": "code",
    "id": "8ZG2kwYD0kZ0",
    "outputId": "71dc0ea2-1bbb-430f-c2a2-a6087d834b4f"
   },
   "outputs": [],
   "source": [
    "plt.hist(masked_cosine_sim.ravel(), bins=100, density=True)\n",
    "plt.xlabel(\"Masked cosine similarity\")\n",
    "plt.ylabel(\"Density\")\n",
    "plt.show()"
   ]
  },
  {
   "cell_type": "markdown",
   "metadata": {
    "colab_type": "text",
    "id": "VGL8LocN0kZ2"
   },
   "source": [
    "It looks like a threshold of around 0.85 would work well for the \"masked cosine similarity axis\". Applying this threshold and then looking at the distribution for \"sum scores\" yields:"
   ]
  },
  {
   "cell_type": "code",
   "execution_count": null,
   "metadata": {
    "colab": {
     "base_uri": "https://localhost:8080/",
     "height": 279
    },
    "colab_type": "code",
    "id": "7rU98aJk0kZ3",
    "outputId": "2c4d6f19-3c6e-4ce1-ea26-952a263e1c59"
   },
   "outputs": [],
   "source": [
    "masked_cosine_sim_thresh = 0.85\n",
    "plt.hist(sum_scores.ravel()[masked_cosine_sim.ravel() > masked_cosine_sim_thresh],\n",
    "         bins=20, density=True)\n",
    "plt.xlabel(\"Sum scores\")\n",
    "plt.ylabel(\"Density\")\n",
    "plt.show()"
   ]
  },
  {
   "cell_type": "markdown",
   "metadata": {
    "colab_type": "text",
    "id": "QHKHY3mq0kZ5"
   },
   "source": [
    "The best choice of threshold is an open research question and depends on how strong you would like the matches to be. For demonstration purposes, we will use the threshold of 2 on sum_scores, which is on the stringent side. The threshold of 2 might miss what could be considered \"weak affinity\" binding sites. Let us visualize the retained hits on a 2d scatterplot:"
   ]
  },
  {
   "cell_type": "code",
   "execution_count": null,
   "metadata": {
    "colab": {
     "base_uri": "https://localhost:8080/",
     "height": 280
    },
    "colab_type": "code",
    "id": "IME4TNtF0kZ7",
    "outputId": "ca93c898-e3a9-411e-f6ce-2f7b5cccbfd8"
   },
   "outputs": [],
   "source": [
    "sum_score_thresh = 2\n",
    "threshold_passers = ((masked_cosine_sim > masked_cosine_sim_thresh)*\n",
    "                     (sum_scores > sum_score_thresh))\n",
    "handles = []\n",
    "handles.append(\n",
    "    plt.scatter(masked_cosine_sim[threshold_passers==False].ravel(),\n",
    "            sum_scores[threshold_passers==False].ravel(), alpha=0.1))\n",
    "handles.append(\n",
    "    plt.scatter(masked_cosine_sim[threshold_passers].ravel(),\n",
    "            sum_scores[threshold_passers].ravel(), alpha=0.1))\n",
    "plt.xlabel(\"Masked cosine similarity\")\n",
    "plt.ylabel(\"Sum score\")\n",
    "plt.legend(handles=handles, labels=[\"Not passing\", \"Passing\"])\n",
    "plt.show()"
   ]
  },
  {
   "cell_type": "markdown",
   "metadata": {
    "colab_type": "text",
    "id": "AbSutVUK0kZ-"
   },
   "source": [
    "From our retained hits, let us visualize the first few matches to the GATA motif."
   ]
  },
  {
   "cell_type": "code",
   "execution_count": null,
   "metadata": {
    "colab": {
     "base_uri": "https://localhost:8080/",
     "height": 802
    },
    "colab_type": "code",
    "id": "agaA8m0Q0kZ_",
    "outputId": "b8e14ee4-1fb6-4715-b6fe-33455223c633"
   },
   "outputs": [],
   "source": [
    "hit_locations = list(zip(*np.nonzero(threshold_passers)))\n",
    "num_to_viz = 5\n",
    "for (seq_idx, hit_pos) in hit_locations[:num_to_viz]:\n",
    "    print(\"cosine similarity:\", masked_cosine_sim[seq_idx,hit_pos],\n",
    "          \"sum scores:\", sum_scores[seq_idx, hit_pos])\n",
    "    viz_sequence.plot_weights(\n",
    "        imp_scores[seq_idx],\n",
    "        highlight={'red': [(hit_pos, hit_pos+len(trimmed_gata))]},\n",
    "        subticks_frequency=20)\n"
   ]
  },
  {
   "cell_type": "markdown",
   "metadata": {
    "colab_type": "text",
    "id": "1NHHOOaZ0kaA"
   },
   "source": [
    "Let us also visualize some regions that are very strong matches to the log-odds PWM, but which did not have a sufficiently high value for sum_scores and were thus not called as matches at our chosen sum_scores threshold (which was on the stringent sides). It turns out that these regions tend to lack the TAL (CAGATG) motif. Since task 0 is a 1 iff both TAL and GATA motifs are present in the sequence, it makes sense that GATA motifs in the absence of TAL would receive lower importance. This illustrates how looking at the importance scores at motif instances incorporates information about the surrounding context, such as the presence or absence of cofactors."
   ]
  },
  {
   "cell_type": "code",
   "execution_count": null,
   "metadata": {
    "colab": {
     "base_uri": "https://localhost:8080/",
     "height": 802
    },
    "colab_type": "code",
    "id": "HrV4gmd30kaB",
    "outputId": "670da074-28cd-4c4f-e843-a9cd1fb4a8a2"
   },
   "outputs": [],
   "source": [
    "#To compute scores from a simple log-odds pwm scan, we can use the code below\n",
    "# Note that because the simulation was generated using a position probability matrix (ppm), the scanning\n",
    "# with the log-odds pwm works better than the masked cosine similarity.\n",
    "#However, in-vivo TF binding is more complex than what can be characterized by a log-odds pwm - \n",
    "# see https://www.ncbi.nlm.nih.gov/pmc/articles/PMC3936734/\n",
    "logodds_pwm = modisco.util.get_logodds_pwm(ppm=trimmed_gata[\"sequence\"].fwd,\n",
    "                                           background=background, pseudocount=0.001)\n",
    "#For simplicity, we will only compute the scores for the forward version of the\n",
    "# motif since that was what was used in the simulation.\n",
    "fwd_logodds_pwm_scores = modisco.util.compute_pwm_scan(onehot_seq=onehot_seq,\n",
    "                                                weightmat=logodds_pwm)\n",
    "lower_imp_gata_hit_locations = list(zip(*np.nonzero((fwd_logodds_pwm_scores > 8)\n",
    "                                                    *(sum_scores < sum_score_thresh))))\n",
    "for (seq_idx, hit_pos) in lower_imp_gata_hit_locations[:num_to_viz]:\n",
    "    print(\"logodds pwm score:\", fwd_logodds_pwm_scores[seq_idx,hit_pos],\n",
    "          \"sum scores:\", sum_scores[seq_idx, hit_pos])\n",
    "    viz_sequence.plot_weights(\n",
    "        imp_scores[seq_idx],\n",
    "        highlight={'red': [(hit_pos, hit_pos+len(trimmed_gata))]},\n",
    "        subticks_frequency=20)"
   ]
  },
  {
   "cell_type": "code",
   "execution_count": null,
   "metadata": {
    "colab": {},
    "colab_type": "code",
    "id": "GYkC2dIY0kaF"
   },
   "outputs": [],
   "source": []
  }
 ],
 "metadata": {
  "colab": {
   "include_colab_link": true,
   "name": "(On Google Colab) With Hit Scoring TF MoDISco TAL GATA.ipynb",
   "provenance": []
  },
  "kernelspec": {
   "display_name": "Python 3",
   "language": "python",
   "name": "python3"
  },
  "language_info": {
   "codemirror_mode": {
    "name": "ipython",
    "version": 3
   },
   "file_extension": ".py",
   "mimetype": "text/x-python",
   "name": "python",
   "nbconvert_exporter": "python",
   "pygments_lexer": "ipython3",
   "version": "3.7.3"
  }
 },
 "nbformat": 4,
 "nbformat_minor": 1
}
